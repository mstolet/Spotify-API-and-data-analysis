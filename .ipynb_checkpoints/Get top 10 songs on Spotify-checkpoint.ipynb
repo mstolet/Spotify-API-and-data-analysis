{
 "cells": [
  {
   "cell_type": "markdown",
   "id": "d9a4ec76",
   "metadata": {},
   "source": [
    "# Gets only songs that have been released after certain date"
   ]
  },
  {
   "cell_type": "code",
   "execution_count": 45,
   "id": "edfc1227",
   "metadata": {},
   "outputs": [],
   "source": [
    "import spotipy\n",
    "from spotipy.oauth2 import SpotifyClientCredentials\n",
    "import pandas as pd\n",
    "\n",
    "# Enter your Spotify API credentials\n",
    "client_id = '301624a72c384c9a9a9601ec7c2a5266'\n",
    "client_secret = 'b65eed47938e4d01acd8202d1d93d004'\n",
    "\n",
    "# Create a Spotify client object\n",
    "client_credentials_manager = SpotifyClientCredentials(client_id=client_id, client_secret=client_secret)\n",
    "sp = spotipy.Spotify(client_credentials_manager=client_credentials_manager)"
   ]
  },
  {
   "cell_type": "code",
   "execution_count": 58,
   "id": "af1f2ea5",
   "metadata": {},
   "outputs": [],
   "source": [
    "# Define the search query\n",
    "search_query = 'funk pesadão'\n",
    "\n",
    "# Search for playlists with the word \"jazz\" in the name\n",
    "playlists = sp.search(search_query, type='playlist', limit=10)\n",
    "    \n",
    "# Create empty lists to store the song names, artist names, listener counts, and features\n",
    "song_names = []\n",
    "artist_names = []\n",
    "listener_counts = []\n",
    "features = []\n",
    "release_dates = []\n",
    "\n",
    "for playlist in playlists['playlists']['items']:   \n",
    "    # Get the tracks in the playlist\n",
    "    tracks = sp.playlist_tracks(playlist['id'])\n",
    "\n",
    "    for track in tracks['items']:\n",
    "       # Check if the track dictionary has a value for the 'track' key\n",
    "        if track.get('track') is None:\n",
    "            continue\n",
    "\n",
    "       # Get the release date\n",
    "        album = track['track']['album']\n",
    "        if album is not None:\n",
    "            release_date = album['release_date']\n",
    "            if release_date >= '2020-01-01':\n",
    "\n",
    "                # Get the track name\n",
    "                track_name = track['track']['name']\n",
    "\n",
    "                # Get the artist name\n",
    "                artist_name = track['track']['artists'][0]['name']\n",
    "\n",
    "                # Get the audio features for the track\n",
    "                audio_features = sp.audio_features(track['track']['id'])[0]\n",
    "\n",
    "                # Get the listener count for the country\n",
    "                listener_count = track['track']['popularity']\n",
    "\n",
    "                # Append the song name, artist name, listener count, and features to their respective lists\n",
    "                song_names.append(track_name)\n",
    "                artist_names.append(artist_name)\n",
    "                listener_counts.append(listener_count)\n",
    "                features.append(audio_features)\n",
    "                release_dates.append(release_date)"
   ]
  },
  {
   "cell_type": "code",
   "execution_count": 142,
   "id": "efd114ea",
   "metadata": {},
   "outputs": [],
   "source": [
    "# Create a pandas dataframe from the lists\n",
    "df = pd.DataFrame({\n",
    "    'Song Name': song_names,\n",
    "    'Artist Name': artist_names,\n",
    "    'Release Date': release_dates,\n",
    "    'Popularity': listener_counts\n",
    "})\n",
    "\n",
    "# Normalize the \"Features\" column\n",
    "df = pd.concat([df, pd.json_normalize(features)], axis=1)\n",
    "\n",
    "# get rid of duplicates\n",
    "df = df.drop_duplicates(subset='Song Name')\n",
    "\n",
    "# sort by popularity\n",
    "# df = df.sort_values(by='Popularity', ascending=False)\n",
    "# df1 = df.head(10)"
   ]
  },
  {
   "cell_type": "code",
   "execution_count": 143,
   "id": "c80b28df",
   "metadata": {},
   "outputs": [
    {
     "data": {
      "text/html": [
       "<div>\n",
       "<style scoped>\n",
       "    .dataframe tbody tr th:only-of-type {\n",
       "        vertical-align: middle;\n",
       "    }\n",
       "\n",
       "    .dataframe tbody tr th {\n",
       "        vertical-align: top;\n",
       "    }\n",
       "\n",
       "    .dataframe thead th {\n",
       "        text-align: right;\n",
       "    }\n",
       "</style>\n",
       "<table border=\"1\" class=\"dataframe\">\n",
       "  <thead>\n",
       "    <tr style=\"text-align: right;\">\n",
       "      <th></th>\n",
       "      <th>Song Name</th>\n",
       "      <th>Artist Name</th>\n",
       "      <th>Release Date</th>\n",
       "      <th>Popularity</th>\n",
       "      <th>danceability</th>\n",
       "      <th>energy</th>\n",
       "      <th>key</th>\n",
       "      <th>loudness</th>\n",
       "      <th>mode</th>\n",
       "      <th>speechiness</th>\n",
       "      <th>...</th>\n",
       "      <th>liveness</th>\n",
       "      <th>valence</th>\n",
       "      <th>tempo</th>\n",
       "      <th>type</th>\n",
       "      <th>id</th>\n",
       "      <th>uri</th>\n",
       "      <th>track_href</th>\n",
       "      <th>analysis_url</th>\n",
       "      <th>duration_ms</th>\n",
       "      <th>time_signature</th>\n",
       "    </tr>\n",
       "  </thead>\n",
       "  <tbody>\n",
       "    <tr>\n",
       "      <th>0</th>\n",
       "      <td>Vai Luan, Rainha dos Faixa Preta</td>\n",
       "      <td>Mc Brunyn</td>\n",
       "      <td>2020-03-20</td>\n",
       "      <td>42</td>\n",
       "      <td>0.892</td>\n",
       "      <td>0.375</td>\n",
       "      <td>1</td>\n",
       "      <td>-8.492</td>\n",
       "      <td>1</td>\n",
       "      <td>0.1610</td>\n",
       "      <td>...</td>\n",
       "      <td>0.0746</td>\n",
       "      <td>0.437</td>\n",
       "      <td>141.148</td>\n",
       "      <td>audio_features</td>\n",
       "      <td>2epD7jzjNfrQYxdSaODCvF</td>\n",
       "      <td>spotify:track:2epD7jzjNfrQYxdSaODCvF</td>\n",
       "      <td>https://api.spotify.com/v1/tracks/2epD7jzjNfrQ...</td>\n",
       "      <td>https://api.spotify.com/v1/audio-analysis/2epD...</td>\n",
       "      <td>161778</td>\n",
       "      <td>4</td>\n",
       "    </tr>\n",
       "    <tr>\n",
       "      <th>1</th>\n",
       "      <td>Mete Com Força e Com Talento</td>\n",
       "      <td>Gui da Tropa</td>\n",
       "      <td>2020-07-16</td>\n",
       "      <td>27</td>\n",
       "      <td>0.720</td>\n",
       "      <td>0.811</td>\n",
       "      <td>6</td>\n",
       "      <td>-2.057</td>\n",
       "      <td>0</td>\n",
       "      <td>0.2220</td>\n",
       "      <td>...</td>\n",
       "      <td>0.1020</td>\n",
       "      <td>0.712</td>\n",
       "      <td>166.744</td>\n",
       "      <td>audio_features</td>\n",
       "      <td>7qvBE8FQVhEtWeXqdXnCvg</td>\n",
       "      <td>spotify:track:7qvBE8FQVhEtWeXqdXnCvg</td>\n",
       "      <td>https://api.spotify.com/v1/tracks/7qvBE8FQVhEt...</td>\n",
       "      <td>https://api.spotify.com/v1/audio-analysis/7qvB...</td>\n",
       "      <td>146639</td>\n",
       "      <td>4</td>\n",
       "    </tr>\n",
       "    <tr>\n",
       "      <th>2</th>\n",
       "      <td>Comprei um Lança</td>\n",
       "      <td>Mc Jacaré</td>\n",
       "      <td>2020-04-07</td>\n",
       "      <td>59</td>\n",
       "      <td>0.652</td>\n",
       "      <td>0.723</td>\n",
       "      <td>7</td>\n",
       "      <td>-7.576</td>\n",
       "      <td>1</td>\n",
       "      <td>0.1120</td>\n",
       "      <td>...</td>\n",
       "      <td>0.0719</td>\n",
       "      <td>0.530</td>\n",
       "      <td>130.759</td>\n",
       "      <td>audio_features</td>\n",
       "      <td>12v6LfkX9YIR3uLefIAAYZ</td>\n",
       "      <td>spotify:track:12v6LfkX9YIR3uLefIAAYZ</td>\n",
       "      <td>https://api.spotify.com/v1/tracks/12v6LfkX9YIR...</td>\n",
       "      <td>https://api.spotify.com/v1/audio-analysis/12v6...</td>\n",
       "      <td>112346</td>\n",
       "      <td>3</td>\n",
       "    </tr>\n",
       "    <tr>\n",
       "      <th>3</th>\n",
       "      <td>Me Bota</td>\n",
       "      <td>Americo Original</td>\n",
       "      <td>2020-04-04</td>\n",
       "      <td>0</td>\n",
       "      <td>0.660</td>\n",
       "      <td>0.829</td>\n",
       "      <td>1</td>\n",
       "      <td>-4.848</td>\n",
       "      <td>0</td>\n",
       "      <td>0.0832</td>\n",
       "      <td>...</td>\n",
       "      <td>0.0801</td>\n",
       "      <td>0.963</td>\n",
       "      <td>165.113</td>\n",
       "      <td>audio_features</td>\n",
       "      <td>3qIxioOzCbonGIVv6vkHid</td>\n",
       "      <td>spotify:track:3qIxioOzCbonGIVv6vkHid</td>\n",
       "      <td>https://api.spotify.com/v1/tracks/3qIxioOzCbon...</td>\n",
       "      <td>https://api.spotify.com/v1/audio-analysis/3qIx...</td>\n",
       "      <td>139288</td>\n",
       "      <td>4</td>\n",
       "    </tr>\n",
       "    <tr>\n",
       "      <th>4</th>\n",
       "      <td>Gol Branco</td>\n",
       "      <td>Mc Balakinha</td>\n",
       "      <td>2020-05-01</td>\n",
       "      <td>38</td>\n",
       "      <td>0.714</td>\n",
       "      <td>0.776</td>\n",
       "      <td>1</td>\n",
       "      <td>-4.818</td>\n",
       "      <td>0</td>\n",
       "      <td>0.0548</td>\n",
       "      <td>...</td>\n",
       "      <td>0.2290</td>\n",
       "      <td>0.895</td>\n",
       "      <td>165.019</td>\n",
       "      <td>audio_features</td>\n",
       "      <td>6IZYJEBsjIp31Mg3AdHRlW</td>\n",
       "      <td>spotify:track:6IZYJEBsjIp31Mg3AdHRlW</td>\n",
       "      <td>https://api.spotify.com/v1/tracks/6IZYJEBsjIp3...</td>\n",
       "      <td>https://api.spotify.com/v1/audio-analysis/6IZY...</td>\n",
       "      <td>153522</td>\n",
       "      <td>4</td>\n",
       "    </tr>\n",
       "    <tr>\n",
       "      <th>...</th>\n",
       "      <td>...</td>\n",
       "      <td>...</td>\n",
       "      <td>...</td>\n",
       "      <td>...</td>\n",
       "      <td>...</td>\n",
       "      <td>...</td>\n",
       "      <td>...</td>\n",
       "      <td>...</td>\n",
       "      <td>...</td>\n",
       "      <td>...</td>\n",
       "      <td>...</td>\n",
       "      <td>...</td>\n",
       "      <td>...</td>\n",
       "      <td>...</td>\n",
       "      <td>...</td>\n",
       "      <td>...</td>\n",
       "      <td>...</td>\n",
       "      <td>...</td>\n",
       "      <td>...</td>\n",
       "      <td>...</td>\n",
       "      <td>...</td>\n",
       "    </tr>\n",
       "    <tr>\n",
       "      <th>723</th>\n",
       "      <td>Vou Te Comer e Bloquear</td>\n",
       "      <td>MC 12</td>\n",
       "      <td>2021-06-04</td>\n",
       "      <td>0</td>\n",
       "      <td>0.719</td>\n",
       "      <td>0.791</td>\n",
       "      <td>2</td>\n",
       "      <td>-4.017</td>\n",
       "      <td>1</td>\n",
       "      <td>0.3780</td>\n",
       "      <td>...</td>\n",
       "      <td>0.3880</td>\n",
       "      <td>0.481</td>\n",
       "      <td>130.160</td>\n",
       "      <td>audio_features</td>\n",
       "      <td>1WoRaqGGig1kmyPp2Tv65D</td>\n",
       "      <td>spotify:track:1WoRaqGGig1kmyPp2Tv65D</td>\n",
       "      <td>https://api.spotify.com/v1/tracks/1WoRaqGGig1k...</td>\n",
       "      <td>https://api.spotify.com/v1/audio-analysis/1WoR...</td>\n",
       "      <td>140074</td>\n",
       "      <td>4</td>\n",
       "    </tr>\n",
       "    <tr>\n",
       "      <th>724</th>\n",
       "      <td>EU VOU SOCAR X VEM DO TABOÃO</td>\n",
       "      <td>Mc Rd</td>\n",
       "      <td>2021-07-23</td>\n",
       "      <td>0</td>\n",
       "      <td>0.951</td>\n",
       "      <td>0.971</td>\n",
       "      <td>0</td>\n",
       "      <td>-0.016</td>\n",
       "      <td>1</td>\n",
       "      <td>0.2910</td>\n",
       "      <td>...</td>\n",
       "      <td>0.0631</td>\n",
       "      <td>0.965</td>\n",
       "      <td>130.042</td>\n",
       "      <td>audio_features</td>\n",
       "      <td>1tjLJwPRSjaClAdluRt62X</td>\n",
       "      <td>spotify:track:1tjLJwPRSjaClAdluRt62X</td>\n",
       "      <td>https://api.spotify.com/v1/tracks/1tjLJwPRSjaC...</td>\n",
       "      <td>https://api.spotify.com/v1/audio-analysis/1tjL...</td>\n",
       "      <td>147888</td>\n",
       "      <td>4</td>\n",
       "    </tr>\n",
       "    <tr>\n",
       "      <th>725</th>\n",
       "      <td>Só Você não Entendeu</td>\n",
       "      <td>Dj Vitin do Pc</td>\n",
       "      <td>2020-03-03</td>\n",
       "      <td>43</td>\n",
       "      <td>0.775</td>\n",
       "      <td>0.353</td>\n",
       "      <td>11</td>\n",
       "      <td>-7.224</td>\n",
       "      <td>0</td>\n",
       "      <td>0.1440</td>\n",
       "      <td>...</td>\n",
       "      <td>0.1180</td>\n",
       "      <td>0.491</td>\n",
       "      <td>129.970</td>\n",
       "      <td>audio_features</td>\n",
       "      <td>3NiKpgLUBTm5w5giZ3rgTD</td>\n",
       "      <td>spotify:track:3NiKpgLUBTm5w5giZ3rgTD</td>\n",
       "      <td>https://api.spotify.com/v1/tracks/3NiKpgLUBTm5...</td>\n",
       "      <td>https://api.spotify.com/v1/audio-analysis/3NiK...</td>\n",
       "      <td>190223</td>\n",
       "      <td>4</td>\n",
       "    </tr>\n",
       "    <tr>\n",
       "      <th>727</th>\n",
       "      <td>AUTOMOTIVO DAS UMBRELLA</td>\n",
       "      <td>DJ JHOW ZS</td>\n",
       "      <td>2021-09-07</td>\n",
       "      <td>38</td>\n",
       "      <td>0.687</td>\n",
       "      <td>0.763</td>\n",
       "      <td>5</td>\n",
       "      <td>-0.281</td>\n",
       "      <td>0</td>\n",
       "      <td>0.3130</td>\n",
       "      <td>...</td>\n",
       "      <td>0.2480</td>\n",
       "      <td>0.231</td>\n",
       "      <td>132.908</td>\n",
       "      <td>audio_features</td>\n",
       "      <td>0NhhvamEloiS4gnMcGH3bl</td>\n",
       "      <td>spotify:track:0NhhvamEloiS4gnMcGH3bl</td>\n",
       "      <td>https://api.spotify.com/v1/tracks/0NhhvamEloiS...</td>\n",
       "      <td>https://api.spotify.com/v1/audio-analysis/0Nhh...</td>\n",
       "      <td>145067</td>\n",
       "      <td>4</td>\n",
       "    </tr>\n",
       "    <tr>\n",
       "      <th>728</th>\n",
       "      <td>MONTAGEM SINISTRA CLUB DA DZ7</td>\n",
       "      <td>DJ Rafinha Dz7</td>\n",
       "      <td>2021-03-03</td>\n",
       "      <td>43</td>\n",
       "      <td>0.723</td>\n",
       "      <td>0.760</td>\n",
       "      <td>0</td>\n",
       "      <td>-1.632</td>\n",
       "      <td>1</td>\n",
       "      <td>0.0819</td>\n",
       "      <td>...</td>\n",
       "      <td>0.0730</td>\n",
       "      <td>0.181</td>\n",
       "      <td>129.938</td>\n",
       "      <td>audio_features</td>\n",
       "      <td>0OCRRwO28JFUS6HsbCQTTJ</td>\n",
       "      <td>spotify:track:0OCRRwO28JFUS6HsbCQTTJ</td>\n",
       "      <td>https://api.spotify.com/v1/tracks/0OCRRwO28JFU...</td>\n",
       "      <td>https://api.spotify.com/v1/audio-analysis/0OCR...</td>\n",
       "      <td>205584</td>\n",
       "      <td>4</td>\n",
       "    </tr>\n",
       "  </tbody>\n",
       "</table>\n",
       "<p>584 rows × 22 columns</p>\n",
       "</div>"
      ],
      "text/plain": [
       "                            Song Name       Artist Name Release Date  \\\n",
       "0    Vai Luan, Rainha dos Faixa Preta         Mc Brunyn   2020-03-20   \n",
       "1        Mete Com Força e Com Talento      Gui da Tropa   2020-07-16   \n",
       "2                    Comprei um Lança        Mc Jacaré   2020-04-07   \n",
       "3                             Me Bota  Americo Original   2020-04-04   \n",
       "4                          Gol Branco      Mc Balakinha   2020-05-01   \n",
       "..                                ...               ...          ...   \n",
       "723           Vou Te Comer e Bloquear             MC 12   2021-06-04   \n",
       "724      EU VOU SOCAR X VEM DO TABOÃO             Mc Rd   2021-07-23   \n",
       "725              Só Você não Entendeu    Dj Vitin do Pc   2020-03-03   \n",
       "727           AUTOMOTIVO DAS UMBRELLA        DJ JHOW ZS   2021-09-07   \n",
       "728     MONTAGEM SINISTRA CLUB DA DZ7    DJ Rafinha Dz7   2021-03-03   \n",
       "\n",
       "     Popularity  danceability  energy  key  loudness  mode  speechiness  ...  \\\n",
       "0            42         0.892   0.375    1    -8.492     1       0.1610  ...   \n",
       "1            27         0.720   0.811    6    -2.057     0       0.2220  ...   \n",
       "2            59         0.652   0.723    7    -7.576     1       0.1120  ...   \n",
       "3             0         0.660   0.829    1    -4.848     0       0.0832  ...   \n",
       "4            38         0.714   0.776    1    -4.818     0       0.0548  ...   \n",
       "..          ...           ...     ...  ...       ...   ...          ...  ...   \n",
       "723           0         0.719   0.791    2    -4.017     1       0.3780  ...   \n",
       "724           0         0.951   0.971    0    -0.016     1       0.2910  ...   \n",
       "725          43         0.775   0.353   11    -7.224     0       0.1440  ...   \n",
       "727          38         0.687   0.763    5    -0.281     0       0.3130  ...   \n",
       "728          43         0.723   0.760    0    -1.632     1       0.0819  ...   \n",
       "\n",
       "     liveness  valence    tempo            type                      id  \\\n",
       "0      0.0746    0.437  141.148  audio_features  2epD7jzjNfrQYxdSaODCvF   \n",
       "1      0.1020    0.712  166.744  audio_features  7qvBE8FQVhEtWeXqdXnCvg   \n",
       "2      0.0719    0.530  130.759  audio_features  12v6LfkX9YIR3uLefIAAYZ   \n",
       "3      0.0801    0.963  165.113  audio_features  3qIxioOzCbonGIVv6vkHid   \n",
       "4      0.2290    0.895  165.019  audio_features  6IZYJEBsjIp31Mg3AdHRlW   \n",
       "..        ...      ...      ...             ...                     ...   \n",
       "723    0.3880    0.481  130.160  audio_features  1WoRaqGGig1kmyPp2Tv65D   \n",
       "724    0.0631    0.965  130.042  audio_features  1tjLJwPRSjaClAdluRt62X   \n",
       "725    0.1180    0.491  129.970  audio_features  3NiKpgLUBTm5w5giZ3rgTD   \n",
       "727    0.2480    0.231  132.908  audio_features  0NhhvamEloiS4gnMcGH3bl   \n",
       "728    0.0730    0.181  129.938  audio_features  0OCRRwO28JFUS6HsbCQTTJ   \n",
       "\n",
       "                                      uri  \\\n",
       "0    spotify:track:2epD7jzjNfrQYxdSaODCvF   \n",
       "1    spotify:track:7qvBE8FQVhEtWeXqdXnCvg   \n",
       "2    spotify:track:12v6LfkX9YIR3uLefIAAYZ   \n",
       "3    spotify:track:3qIxioOzCbonGIVv6vkHid   \n",
       "4    spotify:track:6IZYJEBsjIp31Mg3AdHRlW   \n",
       "..                                    ...   \n",
       "723  spotify:track:1WoRaqGGig1kmyPp2Tv65D   \n",
       "724  spotify:track:1tjLJwPRSjaClAdluRt62X   \n",
       "725  spotify:track:3NiKpgLUBTm5w5giZ3rgTD   \n",
       "727  spotify:track:0NhhvamEloiS4gnMcGH3bl   \n",
       "728  spotify:track:0OCRRwO28JFUS6HsbCQTTJ   \n",
       "\n",
       "                                            track_href  \\\n",
       "0    https://api.spotify.com/v1/tracks/2epD7jzjNfrQ...   \n",
       "1    https://api.spotify.com/v1/tracks/7qvBE8FQVhEt...   \n",
       "2    https://api.spotify.com/v1/tracks/12v6LfkX9YIR...   \n",
       "3    https://api.spotify.com/v1/tracks/3qIxioOzCbon...   \n",
       "4    https://api.spotify.com/v1/tracks/6IZYJEBsjIp3...   \n",
       "..                                                 ...   \n",
       "723  https://api.spotify.com/v1/tracks/1WoRaqGGig1k...   \n",
       "724  https://api.spotify.com/v1/tracks/1tjLJwPRSjaC...   \n",
       "725  https://api.spotify.com/v1/tracks/3NiKpgLUBTm5...   \n",
       "727  https://api.spotify.com/v1/tracks/0NhhvamEloiS...   \n",
       "728  https://api.spotify.com/v1/tracks/0OCRRwO28JFU...   \n",
       "\n",
       "                                          analysis_url duration_ms  \\\n",
       "0    https://api.spotify.com/v1/audio-analysis/2epD...      161778   \n",
       "1    https://api.spotify.com/v1/audio-analysis/7qvB...      146639   \n",
       "2    https://api.spotify.com/v1/audio-analysis/12v6...      112346   \n",
       "3    https://api.spotify.com/v1/audio-analysis/3qIx...      139288   \n",
       "4    https://api.spotify.com/v1/audio-analysis/6IZY...      153522   \n",
       "..                                                 ...         ...   \n",
       "723  https://api.spotify.com/v1/audio-analysis/1WoR...      140074   \n",
       "724  https://api.spotify.com/v1/audio-analysis/1tjL...      147888   \n",
       "725  https://api.spotify.com/v1/audio-analysis/3NiK...      190223   \n",
       "727  https://api.spotify.com/v1/audio-analysis/0Nhh...      145067   \n",
       "728  https://api.spotify.com/v1/audio-analysis/0OCR...      205584   \n",
       "\n",
       "    time_signature  \n",
       "0                4  \n",
       "1                4  \n",
       "2                3  \n",
       "3                4  \n",
       "4                4  \n",
       "..             ...  \n",
       "723              4  \n",
       "724              4  \n",
       "725              4  \n",
       "727              4  \n",
       "728              4  \n",
       "\n",
       "[584 rows x 22 columns]"
      ]
     },
     "execution_count": 143,
     "metadata": {},
     "output_type": "execute_result"
    }
   ],
   "source": [
    "df"
   ]
  },
  {
   "cell_type": "markdown",
   "id": "393c9097",
   "metadata": {},
   "source": [
    "# Testing Popularity vs Danceability"
   ]
  },
  {
   "cell_type": "markdown",
   "id": "f6c9f8cf",
   "metadata": {},
   "source": [
    "## Correlation"
   ]
  },
  {
   "cell_type": "code",
   "execution_count": 144,
   "id": "2ddb128d",
   "metadata": {},
   "outputs": [
    {
     "data": {
      "image/png": "[encoded data removed]",
      "text/plain": [
       "<Figure size 432x288 with 1 Axes>"
      ]
     },
     "metadata": {
      "needs_background": "light"
     },
     "output_type": "display_data"
    }
   ],
   "source": [
    "import matplotlib.pyplot as plt\n",
    "\n",
    "# Calcula o coeficiente de correlação entre danceability e popularity\n",
    "correlation = df['danceability'].corr(df['Popularity'])\n",
    "\n",
    "# Plota um scatter plot para visualizar a relação\n",
    "plt.scatter(df['danceability'], df['Popularity'])\n",
    "plt.xlabel('Danceability')\n",
    "plt.ylabel('Popularity')\n",
    "plt.title(f'Correlation: {correlation:.2f}')\n",
    "plt.show()\n"
   ]
  },
  {
   "cell_type": "markdown",
   "id": "10cbc23c",
   "metadata": {},
   "source": [
    "## Regression"
   ]
  },
  {
   "cell_type": "code",
   "execution_count": 145,
   "id": "9c886421",
   "metadata": {},
   "outputs": [
    {
     "data": {
      "image/png": "[encoded data removed]",
      "text/plain": [
       "<Figure size 432x288 with 1 Axes>"
      ]
     },
     "metadata": {
      "needs_background": "light"
     },
     "output_type": "display_data"
    }
   ],
   "source": [
    "import statsmodels.api as sm\n",
    "import matplotlib.pyplot as plt\n",
    "\n",
    "# Fit the OLS model\n",
    "model = sm.OLS(df['Popularity'], sm.add_constant(df['danceability'])).fit()\n",
    "\n",
    "# Get the predicted values\n",
    "predictions = model.predict(sm.add_constant(df['danceability']))\n",
    "\n",
    "# Plot the data points\n",
    "plt.scatter(df['danceability'], df['Popularity'])\n",
    "\n",
    "# Plot the regression line\n",
    "plt.plot(df['danceability'], predictions, color='red')\n",
    "\n",
    "# Set the labels and title\n",
    "plt.xlabel('Danceability')\n",
    "plt.ylabel('Popularity')\n",
    "plt.title('Regression of Popularity on Danceability')\n",
    "\n",
    "# Show the plot\n",
    "plt.show()\n"
   ]
  },
  {
   "cell_type": "code",
   "execution_count": 146,
   "id": "c1e4f989",
   "metadata": {},
   "outputs": [
    {
     "name": "stdout",
     "output_type": "stream",
     "text": [
      "                            OLS Regression Results                            \n",
      "==============================================================================\n",
      "Dep. Variable:             Popularity   R-squared:                       0.000\n",
      "Model:                            OLS   Adj. R-squared:                 -0.002\n",
      "Method:                 Least Squares   F-statistic:                 2.210e-05\n",
      "Date:                Thu, 27 Apr 2023   Prob (F-statistic):              0.996\n",
      "Time:                        17:13:35   Log-Likelihood:                -2667.5\n",
      "No. Observations:                 584   AIC:                             5339.\n",
      "Df Residuals:                     582   BIC:                             5348.\n",
      "Df Model:                           1                                         \n",
      "Covariance Type:            nonrobust                                         \n",
      "================================================================================\n",
      "                   coef    std err          t      P>|t|      [0.025      0.975]\n",
      "--------------------------------------------------------------------------------\n",
      "const           38.2257      6.334      6.035      0.000      25.785      50.667\n",
      "danceability     0.0366      7.791      0.005      0.996     -15.266      15.339\n",
      "==============================================================================\n",
      "Omnibus:                       89.962   Durbin-Watson:                   1.342\n",
      "Prob(Omnibus):                  0.000   Jarque-Bera (JB):               33.602\n",
      "Skew:                          -0.371   Prob(JB):                     5.05e-08\n",
      "Kurtosis:                       2.089   Cond. No.                         13.3\n",
      "==============================================================================\n",
      "\n",
      "Notes:\n",
      "[1] Standard Errors assume that the covariance matrix of the errors is correctly specified.\n"
     ]
    }
   ],
   "source": [
    "import statsmodels.api as sm\n",
    "\n",
    "# Define a matriz X com apenas a coluna \"danceability\"\n",
    "X = df[['danceability']]\n",
    "\n",
    "# Adiciona uma coluna de 1s para a constante na regressão\n",
    "X = sm.add_constant(X)\n",
    "\n",
    "# Define a variável dependente Y como a coluna \"Popularity\"\n",
    "Y = df['Popularity']\n",
    "\n",
    "# Cria o modelo de regressão linear\n",
    "model = sm.OLS(Y, X).fit()\n",
    "\n",
    "# Imprime o resultado do modelo\n",
    "print(model.summary())"
   ]
  },
  {
   "cell_type": "raw",
   "id": "2d068689",
   "metadata": {},
   "source": [
    "The output shows the results of a linear regression model, where \"Popularity\" is the dependent variable and \"danceability\" is the independent variable. The coefficient of determination (R-squared) is very low, indicating that the model does not explain much of the variance in the data. The p-value for the \"danceability\" variable is not significant (p > 0.05), suggesting that there is no significant relationship between \"danceability\" and \"popularity\". The coefficients for the intercept and \"danceability\" are also shown, along with their standard errors, t-values, and confidence intervals."
   ]
  },
  {
   "cell_type": "markdown",
   "id": "e777ac99",
   "metadata": {},
   "source": [
    "## T-Student"
   ]
  },
  {
   "cell_type": "code",
   "execution_count": 147,
   "id": "f45b1686",
   "metadata": {},
   "outputs": [],
   "source": [
    "from scipy.stats import ttest_ind\n",
    "\n",
    "# Separar as amostras de danceability para as músicas populares e não populares\n",
    "popular_danceability = df[df['Popularity'] >= 50]['danceability']\n",
    "unpopular_danceability = df[df['Popularity'] < 50]['danceability']\n",
    "\n",
    "# Calcular as médias das amostras\n",
    "popular_mean = popular_danceability.mean()\n",
    "unpopular_mean = unpopular_danceability.mean()\n",
    "\n",
    "# Calcular as variâncias das amostras\n",
    "popular_var = popular_danceability.var()\n",
    "unpopular_var = unpopular_danceability.var()\n",
    "\n",
    "# Calcular o valor da estatística t\n",
    "t_stat, p_value = ttest_ind(popular_danceability, unpopular_danceability, equal_var=False)\n",
    "\n"
   ]
  },
  {
   "cell_type": "code",
   "execution_count": 148,
   "id": "b55aa5a3",
   "metadata": {},
   "outputs": [
    {
     "data": {
      "text/plain": [
       "-0.43261339386636943"
      ]
     },
     "execution_count": 148,
     "metadata": {},
     "output_type": "execute_result"
    }
   ],
   "source": [
    "t_stat"
   ]
  },
  {
   "cell_type": "code",
   "execution_count": 149,
   "id": "fa03b5e7",
   "metadata": {},
   "outputs": [
    {
     "data": {
      "text/plain": [
       "0.6655240979725714"
      ]
     },
     "execution_count": 149,
     "metadata": {},
     "output_type": "execute_result"
    }
   ],
   "source": [
    "p_value"
   ]
  },
  {
   "cell_type": "markdown",
   "id": "f3cf605e",
   "metadata": {},
   "source": [
    "# Testing Popularity vs Loudness"
   ]
  },
  {
   "cell_type": "markdown",
   "id": "0cbab8ea",
   "metadata": {},
   "source": [
    "## Correlation"
   ]
  },
  {
   "cell_type": "code",
   "execution_count": 150,
   "id": "7bcc265d",
   "metadata": {},
   "outputs": [
    {
     "data": {
      "image/png": "[encoded data removed]",
      "text/plain": [
       "<Figure size 432x288 with 1 Axes>"
      ]
     },
     "metadata": {
      "needs_background": "light"
     },
     "output_type": "display_data"
    }
   ],
   "source": [
    "import matplotlib.pyplot as plt\n",
    "\n",
    "# Calcula o coeficiente de correlação entre danceability e popularity\n",
    "correlation = df['loudness'].corr(df['Popularity'])\n",
    "\n",
    "# Plota um scatter plot para visualizar a relação\n",
    "plt.scatter(df['loudness'], df['Popularity'])\n",
    "plt.xlabel('loudness')\n",
    "plt.ylabel('Popularity')\n",
    "plt.title(f'Correlation: {correlation:.2f}')\n",
    "plt.show()\n"
   ]
  },
  {
   "cell_type": "markdown",
   "id": "367727d7",
   "metadata": {},
   "source": [
    "## Regression"
   ]
  },
  {
   "cell_type": "code",
   "execution_count": 151,
   "id": "3a7fa7aa",
   "metadata": {},
   "outputs": [
    {
     "data": {
      "image/png": "[encoded data removed]",
      "text/plain": [
       "<Figure size 432x288 with 1 Axes>"
      ]
     },
     "metadata": {
      "needs_background": "light"
     },
     "output_type": "display_data"
    }
   ],
   "source": [
    "import statsmodels.api as sm\n",
    "import matplotlib.pyplot as plt\n",
    "\n",
    "# Fit the OLS model\n",
    "model = sm.OLS(df['Popularity'], sm.add_constant(df['loudness'])).fit()\n",
    "\n",
    "# Get the predicted values\n",
    "predictions = model.predict(sm.add_constant(df['loudness']))\n",
    "\n",
    "# Plot the data points\n",
    "plt.scatter(df['loudness'], df['Popularity'])\n",
    "\n",
    "# Plot the regression line\n",
    "plt.plot(df['loudness'], predictions, color='red')\n",
    "\n",
    "# Set the labels and title\n",
    "plt.xlabel('loudness')\n",
    "plt.ylabel('Popularity')\n",
    "plt.title('Regression of Popularity on loudness')\n",
    "\n",
    "# Show the plot\n",
    "plt.show()\n"
   ]
  },
  {
   "cell_type": "code",
   "execution_count": 152,
   "id": "33966d06",
   "metadata": {},
   "outputs": [
    {
     "name": "stdout",
     "output_type": "stream",
     "text": [
      "                            OLS Regression Results                            \n",
      "==============================================================================\n",
      "Dep. Variable:             Popularity   R-squared:                       0.007\n",
      "Model:                            OLS   Adj. R-squared:                  0.006\n",
      "Method:                 Least Squares   F-statistic:                     4.304\n",
      "Date:                Thu, 27 Apr 2023   Prob (F-statistic):             0.0385\n",
      "Time:                        17:13:37   Log-Likelihood:                -2665.3\n",
      "No. Observations:                 584   AIC:                             5335.\n",
      "Df Residuals:                     582   BIC:                             5343.\n",
      "Df Model:                           1                                         \n",
      "Covariance Type:            nonrobust                                         \n",
      "==============================================================================\n",
      "                 coef    std err          t      P>|t|      [0.025      0.975]\n",
      "------------------------------------------------------------------------------\n",
      "const         35.9318      1.477     24.335      0.000      33.032      38.832\n",
      "loudness      -0.6074      0.293     -2.075      0.038      -1.182      -0.032\n",
      "==============================================================================\n",
      "Omnibus:                       81.033   Durbin-Watson:                   1.370\n",
      "Prob(Omnibus):                  0.000   Jarque-Bera (JB):               33.083\n",
      "Skew:                          -0.381   Prob(JB):                     6.55e-08\n",
      "Kurtosis:                       2.117   Cond. No.                         7.92\n",
      "==============================================================================\n",
      "\n",
      "Notes:\n",
      "[1] Standard Errors assume that the covariance matrix of the errors is correctly specified.\n"
     ]
    }
   ],
   "source": [
    "import statsmodels.api as sm\n",
    "\n",
    "# Define a matriz X com apenas a coluna \"danceability\"\n",
    "X = df[['loudness']]\n",
    "\n",
    "# Adiciona uma coluna de 1s para a constante na regressão\n",
    "X = sm.add_constant(X)\n",
    "\n",
    "# Define a variável dependente Y como a coluna \"Popularity\"\n",
    "Y = df['Popularity']\n",
    "\n",
    "# Cria o modelo de regressão linear\n",
    "model = sm.OLS(Y, X).fit()\n",
    "\n",
    "# Imprime o resultado do modelo\n",
    "print(model.summary())"
   ]
  },
  {
   "cell_type": "raw",
   "id": "7a0f59f8",
   "metadata": {},
   "source": [
    "This output shows the results of a linear regression model that explores the relationship between the dependent variable \"Popularity\" and the independent variable \"loudness\". The R-squared value is 0.007, indicating that only 0.7% of the variance in the popularity can be explained by the loudness. The coefficient of -0.6074 means that for each unit increase in loudness, popularity decreases by -0.6074. The p-value for the loudness coefficient is 0.038, which is less than the significance level of 0.05, suggesting that the effect of loudness on popularity is statistically significant. Therefore, we can conclude that there is a weak negative linear relationship between loudness and popularity."
   ]
  },
  {
   "cell_type": "markdown",
   "id": "f41eee7f",
   "metadata": {},
   "source": [
    "## T-Student"
   ]
  },
  {
   "cell_type": "code",
   "execution_count": 153,
   "id": "3dd8a982",
   "metadata": {},
   "outputs": [],
   "source": [
    "from scipy.stats import ttest_ind\n",
    "\n",
    "# Separar as amostras de danceability para as músicas populares e não populares\n",
    "popular_danceability = df[df['Popularity'] >= 50]['loudness']\n",
    "unpopular_danceability = df[df['Popularity'] < 50]['loudness']\n",
    "\n",
    "# Calcular as médias das amostras\n",
    "popular_mean = popular_danceability.mean()\n",
    "unpopular_mean = unpopular_danceability.mean()\n",
    "\n",
    "# Calcular as variâncias das amostras\n",
    "popular_var = popular_danceability.var()\n",
    "unpopular_var = unpopular_danceability.var()\n",
    "\n",
    "# Calcular o valor da estatística t\n",
    "t_stat, p_value = ttest_ind(popular_danceability, unpopular_danceability, equal_var=False)\n",
    "\n"
   ]
  },
  {
   "cell_type": "code",
   "execution_count": 154,
   "id": "c0ee9cc5",
   "metadata": {},
   "outputs": [
    {
     "data": {
      "text/plain": [
       "-1.9256005894715391"
      ]
     },
     "execution_count": 154,
     "metadata": {},
     "output_type": "execute_result"
    }
   ],
   "source": [
    "t_stat"
   ]
  },
  {
   "cell_type": "code",
   "execution_count": 155,
   "id": "1018ec4d",
   "metadata": {},
   "outputs": [
    {
     "data": {
      "text/plain": [
       "0.05473949699810589"
      ]
     },
     "execution_count": 155,
     "metadata": {},
     "output_type": "execute_result"
    }
   ],
   "source": [
    "p_value"
   ]
  },
  {
   "cell_type": "raw",
   "id": "f52ca5ca",
   "metadata": {},
   "source": [
    "O valor da estatística t é de -1.926 e o valor de p é de 0.055. Como o valor de p é maior do que o nível de significância comum de 0,05, não há evidências suficientes para rejeitar a hipótese nula de que as médias das amostras são iguais. Portanto, não podemos concluir que há diferença significativa entre as médias de loudness das músicas populares e não populares."
   ]
  },
  {
   "cell_type": "code",
   "execution_count": 156,
   "id": "1815768b",
   "metadata": {},
   "outputs": [
    {
     "name": "stdout",
     "output_type": "stream",
     "text": [
      "Index(['Song Name', 'Artist Name', 'Release Date', 'Popularity',\n",
      "       'danceability', 'energy', 'key', 'loudness', 'mode', 'speechiness',\n",
      "       'acousticness', 'instrumentalness', 'liveness', 'valence', 'tempo',\n",
      "       'type', 'id', 'uri', 'track_href', 'analysis_url', 'duration_ms',\n",
      "       'time_signature'],\n",
      "      dtype='object')\n"
     ]
    }
   ],
   "source": [
    "print(df.columns)"
   ]
  },
  {
   "cell_type": "code",
   "execution_count": 157,
   "id": "782258d0",
   "metadata": {},
   "outputs": [],
   "source": [
    "import seaborn as sns\n",
    "import matplotlib.pyplot as plt\n",
    "\n",
    "df_desc = df.loc[:, ['Popularity', 'energy', \n",
    "                    'speechiness',\n",
    "                     'instrumentalness']]\n",
    "\n",
    "# Create a larger figure with subplots\n",
    "# fig, ax = plt.subplots(figsize=(10, 8))\n",
    "\n",
    "# sns.heatmap(df_desc.corr(), annot=True, cmap=\"Wistia\") #annot é pra mostrar os números, cmap é pra escolher as cores e o wistia é um que ele gosta de usar\n",
    "# plt.show()\n",
    "\n",
    "# sns.pairplot(df_desc) #cria os gráficos em azul\n",
    "# plt.show()"
   ]
  },
  {
   "cell_type": "code",
   "execution_count": 158,
   "id": "35235a70",
   "metadata": {},
   "outputs": [
    {
     "data": {
      "text/html": [
       "<div>\n",
       "<style scoped>\n",
       "    .dataframe tbody tr th:only-of-type {\n",
       "        vertical-align: middle;\n",
       "    }\n",
       "\n",
       "    .dataframe tbody tr th {\n",
       "        vertical-align: top;\n",
       "    }\n",
       "\n",
       "    .dataframe thead th {\n",
       "        text-align: right;\n",
       "    }\n",
       "</style>\n",
       "<table border=\"1\" class=\"dataframe\">\n",
       "  <thead>\n",
       "    <tr style=\"text-align: right;\">\n",
       "      <th></th>\n",
       "      <th>Popularity</th>\n",
       "      <th>energy</th>\n",
       "      <th>speechiness</th>\n",
       "      <th>instrumentalness</th>\n",
       "    </tr>\n",
       "  </thead>\n",
       "  <tbody>\n",
       "    <tr>\n",
       "      <th>0</th>\n",
       "      <td>42</td>\n",
       "      <td>0.375</td>\n",
       "      <td>0.1610</td>\n",
       "      <td>0.000000</td>\n",
       "    </tr>\n",
       "    <tr>\n",
       "      <th>1</th>\n",
       "      <td>27</td>\n",
       "      <td>0.811</td>\n",
       "      <td>0.2220</td>\n",
       "      <td>0.001480</td>\n",
       "    </tr>\n",
       "    <tr>\n",
       "      <th>2</th>\n",
       "      <td>59</td>\n",
       "      <td>0.723</td>\n",
       "      <td>0.1120</td>\n",
       "      <td>0.000349</td>\n",
       "    </tr>\n",
       "    <tr>\n",
       "      <th>3</th>\n",
       "      <td>0</td>\n",
       "      <td>0.829</td>\n",
       "      <td>0.0832</td>\n",
       "      <td>0.000018</td>\n",
       "    </tr>\n",
       "    <tr>\n",
       "      <th>4</th>\n",
       "      <td>38</td>\n",
       "      <td>0.776</td>\n",
       "      <td>0.0548</td>\n",
       "      <td>0.000000</td>\n",
       "    </tr>\n",
       "    <tr>\n",
       "      <th>...</th>\n",
       "      <td>...</td>\n",
       "      <td>...</td>\n",
       "      <td>...</td>\n",
       "      <td>...</td>\n",
       "    </tr>\n",
       "    <tr>\n",
       "      <th>723</th>\n",
       "      <td>0</td>\n",
       "      <td>0.791</td>\n",
       "      <td>0.3780</td>\n",
       "      <td>0.000012</td>\n",
       "    </tr>\n",
       "    <tr>\n",
       "      <th>724</th>\n",
       "      <td>0</td>\n",
       "      <td>0.971</td>\n",
       "      <td>0.2910</td>\n",
       "      <td>0.000000</td>\n",
       "    </tr>\n",
       "    <tr>\n",
       "      <th>725</th>\n",
       "      <td>43</td>\n",
       "      <td>0.353</td>\n",
       "      <td>0.1440</td>\n",
       "      <td>0.000000</td>\n",
       "    </tr>\n",
       "    <tr>\n",
       "      <th>727</th>\n",
       "      <td>38</td>\n",
       "      <td>0.763</td>\n",
       "      <td>0.3130</td>\n",
       "      <td>0.000000</td>\n",
       "    </tr>\n",
       "    <tr>\n",
       "      <th>728</th>\n",
       "      <td>43</td>\n",
       "      <td>0.760</td>\n",
       "      <td>0.0819</td>\n",
       "      <td>0.000862</td>\n",
       "    </tr>\n",
       "  </tbody>\n",
       "</table>\n",
       "<p>584 rows × 4 columns</p>\n",
       "</div>"
      ],
      "text/plain": [
       "     Popularity  energy  speechiness  instrumentalness\n",
       "0            42   0.375       0.1610          0.000000\n",
       "1            27   0.811       0.2220          0.001480\n",
       "2            59   0.723       0.1120          0.000349\n",
       "3             0   0.829       0.0832          0.000018\n",
       "4            38   0.776       0.0548          0.000000\n",
       "..          ...     ...          ...               ...\n",
       "723           0   0.791       0.3780          0.000012\n",
       "724           0   0.971       0.2910          0.000000\n",
       "725          43   0.353       0.1440          0.000000\n",
       "727          38   0.763       0.3130          0.000000\n",
       "728          43   0.760       0.0819          0.000862\n",
       "\n",
       "[584 rows x 4 columns]"
      ]
     },
     "execution_count": 158,
     "metadata": {},
     "output_type": "execute_result"
    }
   ],
   "source": [
    "# save the dataframe as a CSV file\n",
    "# df_desc.to_csv('df_desc.csv', index=False)\n",
    "df_desc"
   ]
  },
  {
   "cell_type": "markdown",
   "id": "f169ff71",
   "metadata": {},
   "source": [
    "# Popularity prediction"
   ]
  },
  {
   "cell_type": "markdown",
   "id": "9f5e5b6c",
   "metadata": {},
   "source": [
    "## Normalize\n"
   ]
  },
  {
   "cell_type": "code",
   "execution_count": 159,
   "id": "a9417f30",
   "metadata": {},
   "outputs": [
    {
     "data": {
      "text/html": [
       "<div>\n",
       "<style scoped>\n",
       "    .dataframe tbody tr th:only-of-type {\n",
       "        vertical-align: middle;\n",
       "    }\n",
       "\n",
       "    .dataframe tbody tr th {\n",
       "        vertical-align: top;\n",
       "    }\n",
       "\n",
       "    .dataframe thead th {\n",
       "        text-align: right;\n",
       "    }\n",
       "</style>\n",
       "<table border=\"1\" class=\"dataframe\">\n",
       "  <thead>\n",
       "    <tr style=\"text-align: right;\">\n",
       "      <th></th>\n",
       "      <th>Popularity</th>\n",
       "      <th>energy</th>\n",
       "      <th>speechiness</th>\n",
       "      <th>instrumentalness</th>\n",
       "    </tr>\n",
       "  </thead>\n",
       "  <tbody>\n",
       "    <tr>\n",
       "      <th>0</th>\n",
       "      <td>42</td>\n",
       "      <td>0.255981</td>\n",
       "      <td>0.147570</td>\n",
       "      <td>0.000000</td>\n",
       "    </tr>\n",
       "    <tr>\n",
       "      <th>1</th>\n",
       "      <td>27</td>\n",
       "      <td>0.777512</td>\n",
       "      <td>0.215100</td>\n",
       "      <td>0.001682</td>\n",
       "    </tr>\n",
       "    <tr>\n",
       "      <th>2</th>\n",
       "      <td>59</td>\n",
       "      <td>0.672249</td>\n",
       "      <td>0.093324</td>\n",
       "      <td>0.000397</td>\n",
       "    </tr>\n",
       "    <tr>\n",
       "      <th>3</th>\n",
       "      <td>0</td>\n",
       "      <td>0.799043</td>\n",
       "      <td>0.061441</td>\n",
       "      <td>0.000020</td>\n",
       "    </tr>\n",
       "    <tr>\n",
       "      <th>4</th>\n",
       "      <td>38</td>\n",
       "      <td>0.735646</td>\n",
       "      <td>0.030001</td>\n",
       "      <td>0.000000</td>\n",
       "    </tr>\n",
       "    <tr>\n",
       "      <th>...</th>\n",
       "      <td>...</td>\n",
       "      <td>...</td>\n",
       "      <td>...</td>\n",
       "      <td>...</td>\n",
       "    </tr>\n",
       "    <tr>\n",
       "      <th>723</th>\n",
       "      <td>0</td>\n",
       "      <td>0.753589</td>\n",
       "      <td>0.387800</td>\n",
       "      <td>0.000013</td>\n",
       "    </tr>\n",
       "    <tr>\n",
       "      <th>724</th>\n",
       "      <td>0</td>\n",
       "      <td>0.968900</td>\n",
       "      <td>0.291487</td>\n",
       "      <td>0.000000</td>\n",
       "    </tr>\n",
       "    <tr>\n",
       "      <th>725</th>\n",
       "      <td>43</td>\n",
       "      <td>0.229665</td>\n",
       "      <td>0.128750</td>\n",
       "      <td>0.000000</td>\n",
       "    </tr>\n",
       "    <tr>\n",
       "      <th>727</th>\n",
       "      <td>38</td>\n",
       "      <td>0.720096</td>\n",
       "      <td>0.315842</td>\n",
       "      <td>0.000000</td>\n",
       "    </tr>\n",
       "    <tr>\n",
       "      <th>728</th>\n",
       "      <td>43</td>\n",
       "      <td>0.716507</td>\n",
       "      <td>0.060002</td>\n",
       "      <td>0.000980</td>\n",
       "    </tr>\n",
       "  </tbody>\n",
       "</table>\n",
       "<p>584 rows × 4 columns</p>\n",
       "</div>"
      ],
      "text/plain": [
       "     Popularity    energy  speechiness  instrumentalness\n",
       "0            42  0.255981     0.147570          0.000000\n",
       "1            27  0.777512     0.215100          0.001682\n",
       "2            59  0.672249     0.093324          0.000397\n",
       "3             0  0.799043     0.061441          0.000020\n",
       "4            38  0.735646     0.030001          0.000000\n",
       "..          ...       ...          ...               ...\n",
       "723           0  0.753589     0.387800          0.000013\n",
       "724           0  0.968900     0.291487          0.000000\n",
       "725          43  0.229665     0.128750          0.000000\n",
       "727          38  0.720096     0.315842          0.000000\n",
       "728          43  0.716507     0.060002          0.000980\n",
       "\n",
       "[584 rows x 4 columns]"
      ]
     },
     "execution_count": 159,
     "metadata": {},
     "output_type": "execute_result"
    }
   ],
   "source": [
    "from sklearn.preprocessing import MinMaxScaler\n",
    "from sklearn.preprocessing import StandardScaler\n",
    "\n",
    "# separate the numerical columns from the rest of the data\n",
    "num_cols = df_desc.columns[1:]\n",
    "num_data = df_desc[num_cols]\n",
    "\n",
    "# scale the numerical data\n",
    "scaler = StandardScaler()\n",
    "num_data = scaler.fit_transform(num_data)\n",
    "\n",
    "# replace the original numerical columns with the scaled data\n",
    "df_desc[num_cols] = num_data\n",
    "\n",
    "# create scaler object for min-max scaling\n",
    "scaler = MinMaxScaler()\n",
    "\n",
    "# fit and transform the numerical data\n",
    "num_data = scaler.fit_transform(num_data)\n",
    "\n",
    "# replace the original numerical columns with the scaled data\n",
    "df_desc[num_cols] = num_data\n",
    "\n",
    "df_desc\n"
   ]
  },
  {
   "cell_type": "markdown",
   "id": "2386bf8f",
   "metadata": {},
   "source": [
    "## RandomForest and Regression "
   ]
  },
  {
   "cell_type": "raw",
   "id": "df34d6dd",
   "metadata": {},
   "source": [
    "The R-squared score measures the goodness of fit of the model, with values closer to 1 indicating a better fit. In this case, the R-squared scores for both models are negative, which indicates that the models do not fit the data well."
   ]
  },
  {
   "cell_type": "raw",
   "id": "aab85409",
   "metadata": {},
   "source": [
    "#htis model is also not a good fit\n",
    "\n",
    "from sklearn.ensemble import RandomForestRegressor\n",
    "\n",
    "# Split the dataset into features (X) and target variable (y)\n",
    "X = df_desc.drop(\"Popularity\", axis=1)\n",
    "y = df_desc[\"Popularity\"]\n",
    "\n",
    "# Train a Random Forest Regressor model\n",
    "rf_model = RandomForestRegressor(random_state=42)\n",
    "rf_model.fit(X, y)\n",
    "\n",
    "# Define the features of the new track\n",
    "new_track = [0.6, 0.7, -5.2, 0.1, 0.4, 0.0, 0.0, 0.1]  # example features\n",
    "\n",
    "# Make a prediction for the popularity of the new track\n",
    "popularity_prediction = rf_model.predict([new_track])\n",
    "\n",
    "print(f\"Predicted popularity of new track: {popularity_prediction[0]}\")\n"
   ]
  },
  {
   "cell_type": "markdown",
   "id": "b3fde278",
   "metadata": {},
   "source": [
    "## Support Vector Regression (SVR): "
   ]
  },
  {
   "cell_type": "code",
   "execution_count": 160,
   "id": "49fdb30f",
   "metadata": {},
   "outputs": [
    {
     "name": "stdout",
     "output_type": "stream",
     "text": [
      "-0.0070913625947601755\n"
     ]
    }
   ],
   "source": [
    "from sklearn.model_selection import train_test_split\n",
    "from sklearn.svm import SVR\n",
    "from sklearn import metrics\n",
    "\n",
    "y = df_desc[\"Popularity\"]\n",
    "x = df_desc.drop(\"Popularity\", axis=1)\n",
    "\n",
    "x_train, x_test, y_train, y_test = train_test_split(x, y, test_size=0.4, random_state=1)\n",
    "\n",
    "model_svr = SVR()\n",
    "model_svr.fit(x_train, y_train)\n",
    "\n",
    "y_pred = model_svr.predict(x_test)\n",
    "\n",
    "print(metrics.r2_score(y_test, y_pred))\n"
   ]
  },
  {
   "cell_type": "markdown",
   "id": "9431e32d",
   "metadata": {},
   "source": [
    "## Gradient Boosting Regression: "
   ]
  },
  {
   "cell_type": "code",
   "execution_count": 161,
   "id": "b3d19d57",
   "metadata": {},
   "outputs": [
    {
     "name": "stdout",
     "output_type": "stream",
     "text": [
      "-0.150598131567808\n"
     ]
    }
   ],
   "source": [
    "from sklearn.model_selection import train_test_split\n",
    "from sklearn.ensemble import GradientBoostingRegressor\n",
    "from sklearn import metrics\n",
    "\n",
    "y = df_desc[\"Popularity\"]\n",
    "x = df_desc.drop(\"Popularity\", axis=1)\n",
    "\n",
    "x_train, x_test, y_train, y_test = train_test_split(x, y, test_size=0.4, random_state=1)\n",
    "\n",
    "model_gbr = GradientBoostingRegressor()\n",
    "model_gbr.fit(x_train, y_train)\n",
    "\n",
    "y_pred = model_gbr.predict(x_test)\n",
    "\n",
    "print(metrics.r2_score(y_test, y_pred))\n"
   ]
  },
  {
   "cell_type": "markdown",
   "id": "8820344c",
   "metadata": {},
   "source": [
    "## Neural Network Regression (Multi-Layer Perceptron Regression):"
   ]
  },
  {
   "cell_type": "code",
   "execution_count": 162,
   "id": "436f5d2d",
   "metadata": {},
   "outputs": [
    {
     "name": "stdout",
     "output_type": "stream",
     "text": [
      "-0.04498599047899532\n"
     ]
    },
    {
     "name": "stderr",
     "output_type": "stream",
     "text": [
      "C:\\Users\\marin\\anaconda3\\lib\\site-packages\\sklearn\\neural_network\\_multilayer_perceptron.py:614: ConvergenceWarning: Stochastic Optimizer: Maximum iterations (200) reached and the optimization hasn't converged yet.\n",
      "  warnings.warn(\n"
     ]
    }
   ],
   "source": [
    "from sklearn.model_selection import train_test_split\n",
    "from sklearn.neural_network import MLPRegressor\n",
    "from sklearn import metrics\n",
    "\n",
    "y = df_desc[\"Popularity\"]\n",
    "x = df_desc.drop(\"Popularity\", axis=1)\n",
    "\n",
    "x_train, x_test, y_train, y_test = train_test_split(x, y, test_size=0.4, random_state=1)\n",
    "\n",
    "model_mlp = MLPRegressor(hidden_layer_sizes=(100, 50, 10))\n",
    "model_mlp.fit(x_train, y_train)\n",
    "\n",
    "y_pred = model_mlp.predict(x_test)\n",
    "\n",
    "print(metrics.r2_score(y_test, y_pred))\n"
   ]
  },
  {
   "cell_type": "code",
   "execution_count": 163,
   "id": "86be66af",
   "metadata": {},
   "outputs": [
    {
     "data": {
      "text/html": [
       "<div>\n",
       "<style scoped>\n",
       "    .dataframe tbody tr th:only-of-type {\n",
       "        vertical-align: middle;\n",
       "    }\n",
       "\n",
       "    .dataframe tbody tr th {\n",
       "        vertical-align: top;\n",
       "    }\n",
       "\n",
       "    .dataframe thead th {\n",
       "        text-align: right;\n",
       "    }\n",
       "</style>\n",
       "<table border=\"1\" class=\"dataframe\">\n",
       "  <thead>\n",
       "    <tr style=\"text-align: right;\">\n",
       "      <th></th>\n",
       "      <th>Popularity</th>\n",
       "      <th>energy</th>\n",
       "      <th>speechiness</th>\n",
       "      <th>instrumentalness</th>\n",
       "    </tr>\n",
       "  </thead>\n",
       "  <tbody>\n",
       "    <tr>\n",
       "      <th>0</th>\n",
       "      <td>42</td>\n",
       "      <td>0.255981</td>\n",
       "      <td>0.147570</td>\n",
       "      <td>0.000000</td>\n",
       "    </tr>\n",
       "    <tr>\n",
       "      <th>1</th>\n",
       "      <td>27</td>\n",
       "      <td>0.777512</td>\n",
       "      <td>0.215100</td>\n",
       "      <td>0.001682</td>\n",
       "    </tr>\n",
       "    <tr>\n",
       "      <th>2</th>\n",
       "      <td>59</td>\n",
       "      <td>0.672249</td>\n",
       "      <td>0.093324</td>\n",
       "      <td>0.000397</td>\n",
       "    </tr>\n",
       "    <tr>\n",
       "      <th>3</th>\n",
       "      <td>0</td>\n",
       "      <td>0.799043</td>\n",
       "      <td>0.061441</td>\n",
       "      <td>0.000020</td>\n",
       "    </tr>\n",
       "    <tr>\n",
       "      <th>4</th>\n",
       "      <td>38</td>\n",
       "      <td>0.735646</td>\n",
       "      <td>0.030001</td>\n",
       "      <td>0.000000</td>\n",
       "    </tr>\n",
       "    <tr>\n",
       "      <th>...</th>\n",
       "      <td>...</td>\n",
       "      <td>...</td>\n",
       "      <td>...</td>\n",
       "      <td>...</td>\n",
       "    </tr>\n",
       "    <tr>\n",
       "      <th>723</th>\n",
       "      <td>0</td>\n",
       "      <td>0.753589</td>\n",
       "      <td>0.387800</td>\n",
       "      <td>0.000013</td>\n",
       "    </tr>\n",
       "    <tr>\n",
       "      <th>724</th>\n",
       "      <td>0</td>\n",
       "      <td>0.968900</td>\n",
       "      <td>0.291487</td>\n",
       "      <td>0.000000</td>\n",
       "    </tr>\n",
       "    <tr>\n",
       "      <th>725</th>\n",
       "      <td>43</td>\n",
       "      <td>0.229665</td>\n",
       "      <td>0.128750</td>\n",
       "      <td>0.000000</td>\n",
       "    </tr>\n",
       "    <tr>\n",
       "      <th>727</th>\n",
       "      <td>38</td>\n",
       "      <td>0.720096</td>\n",
       "      <td>0.315842</td>\n",
       "      <td>0.000000</td>\n",
       "    </tr>\n",
       "    <tr>\n",
       "      <th>728</th>\n",
       "      <td>43</td>\n",
       "      <td>0.716507</td>\n",
       "      <td>0.060002</td>\n",
       "      <td>0.000980</td>\n",
       "    </tr>\n",
       "  </tbody>\n",
       "</table>\n",
       "<p>584 rows × 4 columns</p>\n",
       "</div>"
      ],
      "text/plain": [
       "     Popularity    energy  speechiness  instrumentalness\n",
       "0            42  0.255981     0.147570          0.000000\n",
       "1            27  0.777512     0.215100          0.001682\n",
       "2            59  0.672249     0.093324          0.000397\n",
       "3             0  0.799043     0.061441          0.000020\n",
       "4            38  0.735646     0.030001          0.000000\n",
       "..          ...       ...          ...               ...\n",
       "723           0  0.753589     0.387800          0.000013\n",
       "724           0  0.968900     0.291487          0.000000\n",
       "725          43  0.229665     0.128750          0.000000\n",
       "727          38  0.720096     0.315842          0.000000\n",
       "728          43  0.716507     0.060002          0.000980\n",
       "\n",
       "[584 rows x 4 columns]"
      ]
     },
     "execution_count": 163,
     "metadata": {},
     "output_type": "execute_result"
    }
   ],
   "source": [
    "df_desc"
   ]
  },
  {
   "cell_type": "raw",
   "id": "f1b03a68",
   "metadata": {},
   "source": [
    "A negative R-squared value indicates that the model is performing worse than a model that simply predicts the mean of the dependent variable for all observations. In this case, all three models (SVR, Gradient Boosting, and MLP Regression) have negative R-squared values, which suggests that they are not good fits for this particular dataset."
   ]
  },
  {
   "cell_type": "code",
   "execution_count": 164,
   "id": "52d5dd14",
   "metadata": {},
   "outputs": [
    {
     "name": "stdout",
     "output_type": "stream",
     "text": [
      "0.008817731806464613\n",
      "-0.10693551772418064\n"
     ]
    },
    {
     "data": {
      "image/png": "[encoded data removed]",
      "text/plain": [
       "<Figure size 1080x432 with 1 Axes>"
      ]
     },
     "metadata": {
      "needs_background": "light"
     },
     "output_type": "display_data"
    }
   ],
   "source": [
    "from sklearn.model_selection import train_test_split\n",
    "from sklearn.linear_model import LinearRegression\n",
    "from sklearn.ensemble import RandomForestRegressor\n",
    "from sklearn import metrics\n",
    "\n",
    "y = df_desc[\"Popularity\"] #y is what i want to find out\n",
    "x = df_desc.drop(\"Popularity\", axis=1) # x is the rest of the information\n",
    "\n",
    "x_treino, x_teste, y_treino, y_teste = train_test_split(x, y, test_size=0.3, random_state=1) #always this order xtreino, xteste,ytreino, yteste\n",
    "#randomstate igual a um não é necessário, é só pra ele só fazer o aleatório uma vez e dar sempre o mesmo resultado\n",
    "\n",
    "# cria as inteligencias aritificiais\n",
    "modelo_regressaolinear = LinearRegression()\n",
    "modelo_arvoredecisao = RandomForestRegressor()\n",
    "\n",
    "# treina as inteligencias artificias\n",
    "modelo_regressaolinear.fit(x_treino, y_treino)\n",
    "modelo_arvoredecisao.fit(x_treino, y_treino)\n",
    "\n",
    "# criar as previsoes\n",
    "previsao_regressaolinear = modelo_regressaolinear.predict(x_teste)\n",
    "previsao_arvoredecisao = modelo_arvoredecisao.predict(x_teste)\n",
    "\n",
    "# comparar os modelos\n",
    "print(metrics.r2_score(y_teste, previsao_regressaolinear))\n",
    "print(metrics.r2_score(y_teste, previsao_arvoredecisao)) \n",
    "\n",
    "tabela_auxiliar = pd.DataFrame()\n",
    "tabela_auxiliar[\"y_teste\"] = y_teste\n",
    "tabela_auxiliar[\"Previsoes ArvoreDecisao\"] = previsao_arvoredecisao\n",
    "tabela_auxiliar[\"Previsoes Regressao Linear\"] = previsao_regressaolinear\n",
    "\n",
    "plt.figure(figsize=(15,6))\n",
    "sns.lineplot(data=tabela_auxiliar)\n",
    "plt.show()\n",
    "plt.show()"
   ]
  },
  {
   "cell_type": "markdown",
   "id": "be7fd9cd",
   "metadata": {},
   "source": [
    "# Create playlist"
   ]
  },
  {
   "cell_type": "raw",
   "id": "245197b0",
   "metadata": {},
   "source": [
    "import spotipy\n",
    "from spotipy.oauth2 import SpotifyOAuth\n",
    "\n",
    "# Enter your Spotify API credentials\n",
    "client_id = '301624a72c384c9a9a9601ec7c2a5266'\n",
    "client_secret = 'b65eed47938e4d01acd8202d1d93d004'\n",
    "redirect_uri = 'http://localhost:3000'\n",
    "\n",
    "# Create a Spotify client object with user authentication\n",
    "sp = spotipy.Spotify(auth_manager=SpotifyOAuth(client_id=client_id, client_secret=client_secret, redirect_uri=redirect_uri))\n",
    "\n",
    "# Create a new playlist\n",
    "playlist_name = 'My Awesome Playlist'\n",
    "user_id = sp.current_user()['id']\n",
    "playlist = sp.user_playlist_create(user_id, playlist_name)\n",
    "\n",
    "# Add tracks to the playlist\n",
    "track_uris = ['spotify:track:4sTQVOfp9vEMCemLw50sbu', 'spotify:track:3yOlyBJuViE2YSGn3nVE1K'] # Replace with the URIs of the tracks you want to add to the playlist\n",
    "sp.user_playlist_add_tracks(user_id, playlist['id'], track_uris)\n",
    "\n",
    "# Print the URL of the playlist\n",
    "print(f\"Playlist URL: https://open.spotify.com/playlist/{playlist['id']}\")\n"
   ]
  },
  {
   "cell_type": "code",
   "execution_count": null,
   "id": "60207e53",
   "metadata": {},
   "outputs": [],
   "source": [
    "\n"
   ]
  }
 ],
 "metadata": {
  "kernelspec": {
   "display_name": "Python 3",
   "language": "python",
   "name": "python3"
  },
  "language_info": {
   "codemirror_mode": {
    "name": "ipython",
    "version": 3
   },
   "file_extension": ".py",
   "mimetype": "text/x-python",
   "name": "python",
   "nbconvert_exporter": "python",
   "pygments_lexer": "ipython3",
   "version": "3.8.8"
  }
 },
 "nbformat": 4,
 "nbformat_minor": 5
}
